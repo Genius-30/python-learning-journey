{
 "cells": [
  {
   "cell_type": "code",
   "execution_count": 2,
   "metadata": {},
   "outputs": [
    {
     "data": {
      "text/html": [
       "<div>\n",
       "<style scoped>\n",
       "    .dataframe tbody tr th:only-of-type {\n",
       "        vertical-align: middle;\n",
       "    }\n",
       "\n",
       "    .dataframe tbody tr th {\n",
       "        vertical-align: top;\n",
       "    }\n",
       "\n",
       "    .dataframe thead th {\n",
       "        text-align: right;\n",
       "    }\n",
       "</style>\n",
       "<table border=\"1\" class=\"dataframe\">\n",
       "  <thead>\n",
       "    <tr style=\"text-align: right;\">\n",
       "      <th></th>\n",
       "      <th>Customer ID</th>\n",
       "      <th>Name</th>\n",
       "      <th>Email</th>\n",
       "      <th>Phone Number</th>\n",
       "      <th>Address</th>\n",
       "      <th>Total Purchases</th>\n",
       "    </tr>\n",
       "  </thead>\n",
       "  <tbody>\n",
       "    <tr>\n",
       "      <th>0</th>\n",
       "      <td>101</td>\n",
       "      <td>Customer 101</td>\n",
       "      <td>customer101@example.com</td>\n",
       "      <td>615-647-4473</td>\n",
       "      <td>459 Random St, City 101</td>\n",
       "      <td>1142.65</td>\n",
       "    </tr>\n",
       "    <tr>\n",
       "      <th>1</th>\n",
       "      <td>102</td>\n",
       "      <td>Customer 102</td>\n",
       "      <td>customer102@example.com</td>\n",
       "      <td>499-516-9591</td>\n",
       "      <td>535 Random St, City 102</td>\n",
       "      <td>1434.11</td>\n",
       "    </tr>\n",
       "    <tr>\n",
       "      <th>2</th>\n",
       "      <td>103</td>\n",
       "      <td>Customer 103</td>\n",
       "      <td>customer103@example.com</td>\n",
       "      <td>673-532-7767</td>\n",
       "      <td>220 Random St, City 103</td>\n",
       "      <td>305.13</td>\n",
       "    </tr>\n",
       "  </tbody>\n",
       "</table>\n",
       "</div>"
      ],
      "text/plain": [
       "   Customer ID          Name                    Email  Phone Number  \\\n",
       "0          101  Customer 101  customer101@example.com  615-647-4473   \n",
       "1          102  Customer 102  customer102@example.com  499-516-9591   \n",
       "2          103  Customer 103  customer103@example.com  673-532-7767   \n",
       "\n",
       "                   Address  Total Purchases  \n",
       "0  459 Random St, City 101          1142.65  \n",
       "1  535 Random St, City 102          1434.11  \n",
       "2  220 Random St, City 103           305.13  "
      ]
     },
     "execution_count": 2,
     "metadata": {},
     "output_type": "execute_result"
    }
   ],
   "source": [
    "import pandas as pd\n",
    "\n",
    "data = pd.read_excel(r\"C:\\Users\\ACER\\Documents\\Customer_Data.xlsx\")\n",
    "\n",
    "data.head(3)"
   ]
  }
 ],
 "metadata": {
  "kernelspec": {
   "display_name": "Python 3",
   "language": "python",
   "name": "python3"
  },
  "language_info": {
   "codemirror_mode": {
    "name": "ipython",
    "version": 3
   },
   "file_extension": ".py",
   "mimetype": "text/x-python",
   "name": "python",
   "nbconvert_exporter": "python",
   "pygments_lexer": "ipython3",
   "version": "3.13.1"
  }
 },
 "nbformat": 4,
 "nbformat_minor": 2
}
